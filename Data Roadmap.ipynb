{
 "cells": [
  {
   "cell_type": "markdown",
   "id": "23918456",
   "metadata": {
    "jp-MarkdownHeadingCollapsed": true,
    "tags": []
   },
   "source": [
    "# Data cleaning\n",
    "Warning = the code assumes that you have a dataset in a CSV file format. You can modify the code according to your specific data format (e.g., Excel, JSON, etc.)."
   ]
  },
  {
   "cell_type": "markdown",
   "id": "0ea8c6a4",
   "metadata": {
    "jp-MarkdownHeadingCollapsed": true,
    "tags": []
   },
   "source": [
    "## Data Inspection\n",
    "\n",
    "The first step is to inspect the dataset to get a better understanding of its structure, variables, and any potential issues. This includes checking the data types of each variable, identifying missing values or placeholders, and examining potential outliers or inconsistencies."
   ]
  },
  {
   "cell_type": "code",
   "execution_count": null,
   "id": "9f5b8e8c",
   "metadata": {},
   "outputs": [],
   "source": [
    "import pandas as pd\n",
    "\n",
    "#1 Load the dataset\n",
    "data = pd.read_csv('your_dataset.csv')  # Replace 'your_dataset.csv' with your actual dataset file name or path\n",
    "\n",
    "#2 Display the first few rows of the dataset\n",
    "print(\"Preview of the dataset:\")\n",
    "print(data.head())\n",
    "\n",
    "#3 Get the dimensions of the dataset (number of rows, number of columns)\n",
    "print(\"\\nDataset dimensions:\")\n",
    "print(data.shape)\n",
    "\n",
    "#4 Get information about the columns (data types, non-null values)\n",
    "print(\"\\nColumn information:\")\n",
    "print(data.info())\n",
    "\n",
    "#5 Get summary statistics of the numerical columns\n",
    "print(\"\\nSummary statistics:\")\n",
    "print(data.describe())\n",
    "\n",
    "#6 Check for missing values\n",
    "print(\"\\nMissing values:\")\n",
    "print(data.isnull().sum())\n",
    "\n",
    "#7 Check for duplicate rows\n",
    "print(\"\\nDuplicate rows:\")\n",
    "print(data.duplicated().sum())"
   ]
  },
  {
   "cell_type": "markdown",
   "id": "301742bb",
   "metadata": {
    "jp-MarkdownHeadingCollapsed": true,
    "tags": []
   },
   "source": [
    "## Handling Missing Data\n",
    "\n",
    "\n",
    "Missing data refers to the absence of values in the dataset. Missing data can be problematic because it can lead to biased or incomplete analysis. There are several techniques to handle missing data, such as:"
   ]
  },
  {
   "cell_type": "markdown",
   "id": "d70bd155",
   "metadata": {},
   "source": [
    "### Deleting instances or features\n",
    "If themissing values are few and randomly distributed, you may choose to delete the instances or features with missing values. However, this should be done cautiously to avoid losing important information."
   ]
  },
  {
   "cell_type": "code",
   "execution_count": null,
   "id": "576919fb",
   "metadata": {},
   "outputs": [],
   "source": [
    "import pandas as pd\n",
    "\n",
    "# Load the dataset\n",
    "data = pd.read_csv('your_dataset.csv')  # Replace 'your_dataset.csv' with your actual dataset file name or path\n",
    "\n",
    "# Delete instances with missing values\n",
    "data_without_missing = data.dropna()\n",
    "\n",
    "# Display the updated dataset\n",
    "print(data_without_missing.head())"
   ]
  },
  {
   "cell_type": "code",
   "execution_count": null,
   "id": "52b5c0ed",
   "metadata": {},
   "outputs": [],
   "source": [
    "import pandas as pd\n",
    "\n",
    "# Load the dataset\n",
    "data = pd.read_csv(\n",
    "    'your_dataset.csv'\n",
    ")  # Replace 'your_dataset.csv' with your actual dataset file name or path\n",
    "\n",
    "# Delete specific features (columns)\n",
    "features_to_delete = [\n",
    "    'feature1', 'feature2'\n",
    "]  # Replace 'feature1', 'feature2', etc., with the actual column names to delete\n",
    "data_without_features = data.drop(features_to_delete, axis=1)\n",
    "\n",
    "# Display the updated dataset\n",
    "print(data_without_features.head())"
   ]
  },
  {
   "cell_type": "markdown",
   "id": "e57886b9",
   "metadata": {},
   "source": [
    "### Imputation:\n",
    "\n",
    "Imputation methods are techniques used to fill in missing values in a dataset. Handling missing data is crucial as many machine learning algorithms cannot handle missing values.\n",
    "\n",
    "titles of various imputation methods commonly used for handling missing data:\n",
    "\n",
    "1. Mean/Median imputation\n",
    "2. Mode imputation\n",
    "3. Regression imputation\n",
    "4. K-Nearest Neighbors (KNN) imputation\n",
    "5. Multiple Imputation by Chained Equations (MICE)\n",
    "6. Hot-Deck imputation\n",
    "7. Domain-specific imputation\n",
    "\n",
    "These are some of the popular imputation methods used to fill in missing values in datasets. Each method has its own assumptions, advantages, and limitations, so it's important to choose the most appropriate method based on the characteristics of the data and the specific analysis or modeling task."
   ]
  },
  {
   "cell_type": "markdown",
   "id": "818d81bc",
   "metadata": {},
   "source": [
    "#### Mean/Median imputation:\n",
    "\n",
    "   - Use case: This method replaces missing values with the mean or median value of the corresponding feature. It is suitable for numerical features with no significant outliers.\n",
    "   - Pros: It is simple to implement and does not distort the feature's distribution.\n",
    "   - Cons: Mean/median imputation ignores any relationships or patterns in the data, potentially underestimating the variability of the imputed feature."
   ]
  },
  {
   "cell_type": "code",
   "execution_count": null,
   "id": "718ef019",
   "metadata": {},
   "outputs": [],
   "source": [
    "#Mean Imputation:\n",
    "\n",
    "import pandas as pd\n",
    "\n",
    "# Load the dataset\n",
    "data = pd.read_csv(\n",
    "    'your_dataset.csv'\n",
    ")  # Replace 'your_dataset.csv' with your actual dataset file name or path\n",
    "\n",
    "# Perform mean imputation\n",
    "mean_imputed_data = data.fillna(data.mean())\n",
    "\n",
    "# Display the updated dataset\n",
    "print(mean_imputed_data.head())"
   ]
  },
  {
   "cell_type": "code",
   "execution_count": null,
   "id": "1f757e7d",
   "metadata": {},
   "outputs": [],
   "source": [
    "#Median Imputation:\n",
    "\n",
    "import pandas as pd\n",
    "\n",
    "# Load the dataset\n",
    "data = pd.read_csv('your_dataset.csv')  # Replace 'your_dataset.csv' with your actual dataset file name or path\n",
    "\n",
    "# Perform median imputation\n",
    "median_imputed_data = data.fillna(data.median())\n",
    "\n",
    "# Display the updated dataset\n",
    "print(median_imputed_data.head())"
   ]
  },
  {
   "cell_type": "markdown",
   "id": "d4e88fa8",
   "metadata": {},
   "source": [
    "#### Mode imputation:\n",
    "   - Use case: Mode imputation replaces missing categorical values with the most frequent category in the feature. It is suitable for categorical features or numerical features that can be discretized into categories.\n",
    "   - Pros: It is straightforward and effective for handling categorical missing values.\n",
    "   - Cons: Mode imputation may introduce bias if the most frequent category is overrepresented.\n",
    "   "
   ]
  },
  {
   "cell_type": "code",
   "execution_count": null,
   "id": "b474acf6",
   "metadata": {},
   "outputs": [],
   "source": [
    "import pandas as pd\n",
    "\n",
    "# Load the dataset\n",
    "data = pd.read_csv('your_dataset.csv')  # Replace 'your_dataset.csv' with your actual dataset file name or path\n",
    "\n",
    "# Perform mode imputation\n",
    "mode_imputed_data = data.fillna(data.mode().iloc[0])\n",
    "\n",
    "# Display the updated dataset\n",
    "print(mode_imputed_data.head())\n",
    "\n",
    "''''The mode() function is used to calculate the mode for each column, and the .\\\n",
    "niloc[0] is used to select the first mode if there are multiple modes.''''''"
   ]
  },
  {
   "cell_type": "markdown",
   "id": "1086755d",
   "metadata": {},
   "source": [
    "#### Regression imputation\n",
    "\n",
    "   - Use case: Regression-based imputation predicts missing values using other features as predictors. It is suitable when there is a correlation between the missing feature and other features.\n",
    "   - Pros: It captures relationships between variables and can provide good imputations if the correlation is strong.\n",
    "   - Cons: Regression imputation assumes a linear relationship and may produce inaccurate results if the relationship is nonlinear or complex.\n",
    "   \n",
    "**warning: is Regression imputation used for classification tasks?**\n",
    "\n",
    "Regression imputation is primarily used for imputing missing values in numerical features. It estimates the missing values by fitting a regression model using other features as predictors. While regression imputation can be applied in various contexts, including classification tasks,\n",
    "\n",
    "**it is typically more commonly used for regression tasks where the target variable is continuous.**\n",
    "\n",
    "In classification tasks, where the target variable is categorical, other imputation methods such as mode imputation or hot-deck imputation are often preferred. These methods are better suited for handling categorical variables and maintaining the integrity of the class distribution.\n",
    "\n",
    "However, if you have numerical features with missing values in a classification task and believe that regression imputation could capture meaningful relationships between features, you can still consider using regression imputation. It's important to assess the impact of the imputation method on the classification performance and evaluate if it aligns with the characteristics of your data and the requirements of your classification task.\n",
    "\n",
    "**Atention:**\n",
    "the tilde (~) operator is used as a logical NOT operator in the context of boolean indexing.\n",
    "~ negates the boolean mask, flipping True values to False and vice versa. So, it effectively selects the rows where the feature does not have missing values.\n",
    "~X[feature_with_missing_values].isnull() creates a boolean mask that is True for the rows where the feature does not have missing values and False for the rows with missing values."
   ]
  },
  {
   "cell_type": "code",
   "execution_count": null,
   "id": "b21781da",
   "metadata": {},
   "outputs": [],
   "source": [
    "import pandas as pd\n",
    "from sklearn.linear_model import LinearRegression\n",
    "\n",
    "# Load the dataset\n",
    "data = pd.read_csv('your_dataset.csv')  # Replace 'your_dataset.csv' with your actual dataset file name or path\n",
    "\n",
    "# Split the dataset into features and target\n",
    "X = data.drop('target_variable', axis=1)  # Replace 'target_variable' with the name of your target variable column\n",
    "y = data['target_variable']\n",
    "\n",
    "# Identify the feature(s) with missing values\n",
    "feature_with_missing_values = 'feature_name'  # Replace 'feature_name' with the name of the feature with missing values\n",
    "\n",
    "# Split the data into two sets: with and without missing values in the feature\n",
    "X_known = X[~X[feature_with_missing_values].isnull()]\n",
    "X_unknown = X[X[feature_with_missing_values].isnull()]\n",
    "y_known = y[~X[feature_with_missing_values].isnull()]\n",
    "\n",
    "# Fit a regression model\n",
    "regressor = LinearRegression()\n",
    "regressor.fit(X_known, y_known)\n",
    "\n",
    "# Predict the missing values\n",
    "imputed_values = regressor.predict(X_unknown)\n",
    "\n",
    "# Update the dataset with the imputed values\n",
    "data.loc[X_unknown.index, feature_with_missing_values] = imputed_values\n",
    "\n",
    "# Display the updated dataset\n",
    "print(data.head())"
   ]
  },
  {
   "cell_type": "markdown",
   "id": "dc85434a",
   "metadata": {},
   "source": [
    "#### K-Nearest Neighbors (KNN) imputation:\n",
    "\n",
    "   - Use case: KNN imputation fills missing values based on the values of the nearest neighbors in the feature space. It is suitable for datasets with multiple features and when the missingness is not completely random.\n",
    "   \n",
    "   - Pros: It takes into account the similarities between instances and can handle both numerical and categorical features.\n",
    "   \n",
    "   - Cons: KNN imputation can be computationally expensive for large datasets and requires defining the number of neighbors (k). It may also introduce bias if there is a high level of missingness."
   ]
  },
  {
   "cell_type": "code",
   "execution_count": null,
   "id": "8416ca79",
   "metadata": {},
   "outputs": [],
   "source": [
    "import pandas as pd\n",
    "from sklearn.impute import KNNImputer\n",
    "\n",
    "# Load the dataset\n",
    "data = pd.read_csv('your_dataset.csv')  # Replace 'your_dataset.csv' with your actual dataset file name or path\n",
    "\n",
    "# Create a copy of the dataset for imputation\n",
    "imputed_data = data.copy()\n",
    "\n",
    "# Identify the feature(s) with missing values\n",
    "features_with_missing_values = ['feature1', 'feature2']  # Replace with the names of the features with missing values\n",
    "\n",
    "# Perform KNN imputation\n",
    "imputer = KNNImputer(n_neighbors=5)  # Set the desired number of neighbors\n",
    "imputed_data[features_with_missing_values] = imputer.fit_transform(imputed_data[features_with_missing_values])\n",
    "\n",
    "# Display the updated dataset\n",
    "print(imputed_data.head())"
   ]
  },
  {
   "attachments": {
    "Workflow-of-multiple-imputation-by-chained-equations-MICE.png": {
     "image/png": "[encoded data removed]"
    }
   },
   "cell_type": "markdown",
   "id": "d10617e1",
   "metadata": {},
   "source": [
    "#### Multiple Imputation by Chained Equations (MICE)\n",
    "   - Use case: MICE is an iterative imputation method that models each feature with missing values using the other features in the dataset. \n",
    "  \n",
    "   **It is suitable for datasets with complex dependencies between features.**\n",
    "   \n",
    "   - Pros: MICE can handle missing values in both numerical and categorical features and preserves the relationships between variables.\n",
    "   - Cons: MICE can be computationally expensive and may require a larger number of iterations for convergence.\n",
    "\n",
    "   2min video: https://www.youtube.com/watch?v=zX-pacwVyvU\n",
    "![Workflow-of-multiple-imputation-by-chained-equations-MICE.png]\n",
    "\n",
    "![Workflow-of-multiple-imputation-by-chained-equations-MICE.png](attachment:Workflow-of-multiple-imputation-by-chained-equations-MICE.png)"
   ]
  },
  {
   "cell_type": "code",
   "execution_count": null,
   "id": "75b254f2",
   "metadata": {},
   "outputs": [],
   "source": [
    "from fancyimpute import IterativeImputer\n",
    "import numpy as np\n",
    "\n",
    "# Example data with missing values\n",
    "X = np.array([[1, 2, np.nan],\n",
    "              [4, np.nan, 6],\n",
    "              [7, 8, 9]])\n",
    "\n",
    "# Create an instance of the MICE imputer\n",
    "mice_imputer = IterativeImputer()\n",
    "\n",
    "# Perform the imputation\n",
    "X_imputed = mice_imputer.fit_transform(X)\n",
    "\n",
    "# Print the imputed data\n",
    "print(\"Imputed data:\")\n",
    "print(X_imputed)"
   ]
  },
  {
   "cell_type": "markdown",
   "id": "45b69eed",
   "metadata": {},
   "source": [
    "#### Hot-Deck imputation:\n",
    "   - Use case: Hot-Deck imputation replaces missing values with values \"randomly\" selected from similar instances in the dataset. \n",
    "\n",
    "   **It is suitable for datasets with similar patterns between instances.**\n",
    "   \n",
    "   - Pros: It preserves the relationships between variables and can handle both numerical and categorical features.\n",
    "   - Cons: Hot-Deck imputation relies on the assumption that similar instances have similar values, which may not always hold true.\n",
    "\n",
    "\n",
    "   **note: Hot-deck imputation is not supported directly by sklearn and can use KNNimputer. the difference is the hot-deck randomly selects values from the pool of similar observations.**\n"
   ]
  },
  {
   "cell_type": "code",
   "execution_count": null,
   "id": "731119da",
   "metadata": {},
   "outputs": [],
   "source": [
    "import pandas as pd\n",
    "import numpy as np\n",
    "\n",
    "# Create a sample dataset with missing values\n",
    "data = {'A': [1, 2, np.nan, 4, 5],\n",
    "        'B': [np.nan, 6, 7, np.nan, 9],\n",
    "        'C': [10, np.nan, 12, 13, 14]}\n",
    "df = pd.DataFrame(data)\n",
    "\n",
    "# Function to perform hot-deck imputation\n",
    "def hot_deck_imputation(df):\n",
    "    for col in df.columns:\n",
    "        missing_indices = df[col].isnull()\n",
    "        num_missing = missing_indices.sum()\n",
    "        \n",
    "        if num_missing > 0:\n",
    "            similar_indices = np.random.choice(df[~missing_indices].index, size=num_missing, replace=True)\n",
    "            df.loc[missing_indices, col] = df.loc[similar_indices, col].values\n",
    "    \n",
    "    return df\n",
    "\n",
    "# Apply hot-deck imputation on the dataset\n",
    "imputed_df = hot_deck_imputation(df)\n",
    "\n",
    "print(\"Original Dataset:\")\n",
    "print(df)\n",
    "print(\"\\nImputed Dataset:\")\n",
    "print(imputed_df)"
   ]
  },
  {
   "cell_type": "markdown",
   "id": "501d80d1",
   "metadata": {},
   "source": [
    "\n",
    "#### Domain-specific imputation:\n",
    "\n",
    "   - Use case: In some cases, domain-specific knowledge can be used to impute missing values. For example, if missing data relates to time series, seasonal patterns or historical trends could be leveraged for imputation.\n",
    "   \n",
    "   - Pros: Domain-specific imputation can provide more accurate imputations based on expert knowledge.\n",
    "   - Cons: It requires expertise in the specific domain and may not be applicable or effective for all datasets.\n",
    "\n",
    "The choice of imputation method depends on the nature of the data, the amount and type of missingness, and the specific requirements of the analysis or modeling task. It is essential to consider the potential impact of imputation on the downstream analysis and interpret the results with caution."
   ]
  },
  {
   "cell_type": "markdown",
   "id": "6fc59472",
   "metadata": {},
   "source": [
    "## noise handling\n",
    "\n",
    "Handling noise refers to the process of reducing or removing unwanted variations or random fluctuations in the data, often caused by measurement errors or other sources of interference. Noise can distort the underlying patterns or relationships in the data, making it harder to extract meaningful insights or build accurate models. Therefore, noise reduction techniques are applied to enhance the signal-to-noise ratio and improve the quality of the data. Here are a few common approaches for handling noise:\n",
    "\n",
    "1. Smoothing:\n",
    "   - Smoothing techniques involve applying filters or algorithms to remove high-frequency noise components while preserving the overall trend or pattern in the data. Some popular smoothing methods include:\n",
    "     - Moving Average: A moving average calculates the average of a sliding window of data points, effectively smoothing out short-term fluctuations.\n",
    "     - Gaussian Smoothing: This technique applies a weighted average to neighboring data points, with weights determined by a Gaussian distribution, to reduce noise.\n",
    "\n",
    "2. Filtering:\n",
    "   - Filtering techniques aim to remove unwanted frequencies or noise components from the data while preserving the desired signal. Different types of filters can be used depending on the characteristics of the noise and the data. Some common filtering methods include:\n",
    "     - Low-pass Filter: A low-pass filter allows low-frequency components to pass through while attenuating high-frequency noise.\n",
    "     - High-pass Filter: A high-pass filter allows high-frequency components to pass through while attenuating low-frequency noise.\n",
    "     - Band-pass Filter: A band-pass filter allows a specific range of frequencies to pass through while attenuating frequencies outside that range.\n",
    "\n",
    "3. Outlier Detection and Removal:\n",
    "   - Outliers are data points that significantly deviate from the expected or typical patterns. Outliers can be considered as noise and may need to be handled or removed. Outlier detection techniques, such as statistical methods (e.g., z-score or modified z-score) or distance-based methods (e.g., Mahalanobis distance), can help identify and remove outliers from the data.\n",
    "\n",
    "4. Signal Averaging:\n",
    "   - Signal averaging is a technique that involves combining multiple measurements of the same phenomenon to reduce random noise. By averaging multiple observations, the random fluctuations tend to cancel out, while the desired signal is enhanced.\n",
    "\n",
    "5. Data Interpolation or Extrapolation:\n",
    "   - In some cases, missing or noisy data points can be estimated or replaced using interpolation or extrapolation techniques. These methods use the surrounding data points to infer the missing or noisy values based on the underlying patterns or relationships.\n",
    "\n",
    "6. Data Normalization or Standardization:\n",
    "   - Scaling or normalizing the data can also help in handling noise. By bringing the data onto a similar scale, the impact of noise can be reduced, making it easier to identify and analyze the underlying patterns.\n",
    "\n",
    "It's important to note that the choice of noise reduction technique depends on the nature of the noise, the characteristics of the data, and the specific requirements of the analysis or modeling task. It's often a balance between preserving the essential information and removing unwanted noise to improve the accuracy and reliability of the data."
   ]
  },
  {
   "cell_type": "markdown",
   "id": "842555b8",
   "metadata": {},
   "source": [
    "## Handling Outliers:\n",
    "\n",
    "Outliers are extreme values that deviate significantly from the bulk of the data. Outliers can skew the analysis or modeling results and should be addressed. Techniques for handling outliers include:\n",
    "\n",
    " 1. Deleting outliers: In some cases, outliers can be removed from the dataset if they are considered as erroneous or irrelevant data points. However, this should be done judiciously and with a clear understanding of the data and the problem being addressed.\n",
    "\n",
    " 2. Transforming outliers: Outliers can be transformed using statistical techniques such as winsorization or log-transformation to reduce their impact or make them conform more closely to the rest of the data.\n",
    "\n",
    " 3. Treating outliers separately: In certain cases, it may be appropriate to treat outliers as a distinct group or category and analyze them separately from the rest of the data."
   ]
  },
  {
   "cell_type": "markdown",
   "id": "8fe4d425",
   "metadata": {},
   "source": [
    "## Handling Inconsistent Data:\n",
    "\n",
    "Inconsistent data refers to data that violates logical rules or constraints. This can include contradictory values, formatting errors, or data that does not adhere to predefined rules. Techniques for handling inconsistent data include:\n",
    "\n",
    " 1. Standardizing formats: Ensuring consistent formatting (e.g., date formats, numeric formats) across the dataset.\n",
    "\n",
    " 2. Correcting errors: Identifying and correcting typographical errors or inconsistencies in the data, such as misspellings or incorrect values.\n",
    "\n",
    " 3. Validating data against established rules: Checking the data against predefined rules or constraints to identify any inconsistencies or violations."
   ]
  },
  {
   "cell_type": "markdown",
   "id": "ef30ad99",
   "metadata": {
    "jp-MarkdownHeadingCollapsed": true,
    "tags": []
   },
   "source": [
    "# Data Transformation"
   ]
  },
  {
   "cell_type": "markdown",
   "id": "57a4a63a",
   "metadata": {},
   "source": [
    "## Scaling or normalization\n",
    "is a common data transformation technique used to bring different features onto a similar scale. Let's take an example of scaling numerical features using Min-Max scaling, which scales the values between a specified range (typically 0 and 1). Here's how you can perform scaling using Python and the scikit-learn library:"
   ]
  },
  {
   "cell_type": "code",
   "execution_count": null,
   "id": "8e568d87",
   "metadata": {},
   "outputs": [],
   "source": [
    "from sklearn.preprocessing import MinMaxScaler\n",
    "import numpy as np\n",
    "\n",
    "# Sample data with two numerical features\n",
    "data = np.array([[10, 20],\n",
    "                 [30, 40],\n",
    "                 [50, 60]])\n",
    "\n",
    "# Create an instance of MinMaxScaler\n",
    "scaler = MinMaxScaler()\n",
    "\n",
    "# Fit the scaler on the data and transform it\n",
    "scaled_data = scaler.fit_transform(data)\n",
    "\n",
    "print(\"Original Data:\\n\", data)\n",
    "print(\"\\nScaled Data:\\n\", scaled_data)"
   ]
  },
  {
   "cell_type": "markdown",
   "id": "d3e68b1b",
   "metadata": {},
   "source": [
    "## Logarithmic Transformation:\n",
    "When data is highly skewed or has a wide range, applying a logarithmic transformation can compress the data and make it more symmetrical. This transformation is useful when dealing with variables that have exponential or power-law relationships."
   ]
  },
  {
   "cell_type": "markdown",
   "id": "e8afd992",
   "metadata": {},
   "source": [
    "**attention : Remmeber in the first step of data preprossesing we used methods like summary and etr, becuase we wanted to understand for example we should use a Logarithmic Transformation for a column or not**"
   ]
  },
  {
   "cell_type": "code",
   "execution_count": null,
   "id": "aebceb65",
   "metadata": {},
   "outputs": [],
   "source": [
    "import numpy as np\n",
    "from sklearn.preprocessing import FunctionTransformer\n",
    "\n",
    "# Sample data with skewed values\n",
    "data = np.array([1, 10, 100, 1000])\n",
    "\n",
    "# Create a logarithmic transformer\n",
    "log_transformer = FunctionTransformer(np.log1p, validate=True)\n",
    "\n",
    "# Apply logarithmic transformation\n",
    "transformed_data = log_transformer.transform(data.reshape(-1, 1))\n",
    "\n",
    "print(\"Original Data:\", data)\n",
    "print(\"Transformed Data:\", transformed_data.flatten())"
   ]
  },
  {
   "cell_type": "markdown",
   "id": "df501a6a",
   "metadata": {},
   "source": [
    "## Power Transformation\n",
    "Power transformations, such as Box-Cox or Yeo-Johnson, are used to reduce the skewness of data and make it conform more closely to a normal distribution. These transformations are beneficial when working with variables that have long tails or exhibit a non-linear relationship with the target variable."
   ]
  },
  {
   "cell_type": "code",
   "execution_count": null,
   "id": "bbc489eb",
   "metadata": {},
   "outputs": [],
   "source": [
    "import numpy as np\n",
    "from scipy import stats\n",
    "\n",
    "# Sample data with positive values\n",
    "data = np.array([1, 10, 100, 1000])\n",
    "\n",
    "# Perform Box-Cox transformation\n",
    "transformed_data, lambda_value = stats.boxcox(data)\n",
    "\n",
    "print(\"Original Data:\", data)\n",
    "print(\"Transformed Data:\", transformed_data)\n",
    "print(\"Lambda value:\", lambda_value)\n",
    "\n",
    "\n",
    "\"\"\"The lambda value indicates the power transformation applied. If the lambda value is close to 0, \n",
    "it suggests a logarithmic transformation.\"\"\""
   ]
  },
  {
   "cell_type": "markdown",
   "id": "65889028",
   "metadata": {},
   "source": [
    "## Binning\n",
    "Binning involves grouping continuous values into discrete intervals or categories. This can be useful for simplifying the data representation, handling non-linear relationships, or converting numerical variables into categorical ones. Binning can be done using equal-width intervals, equal-frequency intervals, or domain-specific criteria."
   ]
  },
  {
   "cell_type": "markdown",
   "id": "b91eb341",
   "metadata": {},
   "source": [
    "**attention: consider one-hot encoding after binning**"
   ]
  },
  {
   "cell_type": "code",
   "execution_count": null,
   "id": "6826e634",
   "metadata": {},
   "outputs": [],
   "source": [
    "import pandas as pd\n",
    "\n",
    "# Sample data\n",
    "data = pd.DataFrame({'Age': [22, 35, 42, 28, 55, 68, 38, 19, 60, 32]})\n",
    "\n",
    "# Define the bin edges\n",
    "bin_edges = [0, 20, 40, 60, 100]\n",
    "\n",
    "# Perform binning\n",
    "data['Age Group'] = pd.cut(data['Age'], bins=bin_edges, labels=['<20', '20-40', '40-60', '60+'])\n",
    "\n",
    "print(data)"
   ]
  },
  {
   "cell_type": "markdown",
   "id": "ef6a8db6",
   "metadata": {},
   "source": [
    "## Encoding Categorical Variables\n",
    "Categorical variables need to be transformed into numerical representations for many machine learning algorithms. Common techniques include one-hot encoding, which creates binary variables for each category, and label encoding, which assigns a unique numerical label to each category."
   ]
  },
  {
   "cell_type": "markdown",
   "id": "88b9f64e",
   "metadata": {},
   "source": [
    "### One-Hot Encoding:\n",
    "To perform one-hot encoding, we use the pd.get_dummies() function on the 'Color' column. This function creates separate binary columns for each unique category present in the 'Color' column. Each column represents a category, and a value of 1 indicates the presence of that category for a particular data point."
   ]
  },
  {
   "cell_type": "code",
   "execution_count": null,
   "id": "ed257075",
   "metadata": {},
   "outputs": [],
   "source": [
    "import pandas as pd\n",
    "\n",
    "# Sample data\n",
    "data = pd.DataFrame({'Color': ['Red', 'Green', 'Blue', 'Red', 'Green', 'Blue']})\n",
    "\n",
    "# One-hot encoding\n",
    "one_hot_encoded = pd.get_dummies(data['Color'])\n",
    "\n",
    "print(\"One-Hot Encoded:\")\n",
    "print(one_hot_encoded)\n",
    "print()\n"
   ]
  },
  {
   "cell_type": "markdown",
   "id": "dbc646fe",
   "metadata": {},
   "source": [
    "### Label Encoding:\n",
    "To perform label encoding, we use the astype('category').cat.codes approach. We first convert the 'Color' column to the 'category' data type and then use the cat.codes attribute to assign a numerical code to each unique category. Each category is mapped to a numerical value, starting from 0."
   ]
  },
  {
   "cell_type": "code",
   "execution_count": null,
   "id": "6dbd22ec",
   "metadata": {},
   "outputs": [],
   "source": [
    "\n",
    "# Label encoding\n",
    "label_encoded = data['Color'].astype('category').cat.codes\n",
    "\n",
    "print(\"Label Encoded:\")\n",
    "print(label_encoded)"
   ]
  },
  {
   "cell_type": "markdown",
   "id": "41d41ad4",
   "metadata": {},
   "source": [
    "### How to choose between one-hot and lable encoding"
   ]
  },
  {
   "cell_type": "markdown",
   "id": "264f69e1",
   "metadata": {},
   "source": [
    "The choice between one-hot encoding and label encoding depends on the nature of the categorical variable and the specific requirements of your analysis or machine learning model. Here are some guidelines to help you decide when to use each encoding method:\n",
    "\n",
    "**One-Hot Encoding:**\n",
    "- Use one-hot encoding when the categorical variable does not have an inherent order or hierarchy. One-hot encoding creates separate binary columns for each category, representing the presence or absence of that category for each data point.\n",
    "- One-hot encoding is suitable when the number of unique categories is relatively small, as it can result in a high-dimensional feature space when there are many categories.\n",
    "- One-hot encoding is commonly used when applying machine learning algorithms that do not assume any ordinal relationship between the categories, such as decision trees, random forests, or neural networks.\n",
    "\n",
    "**Label Encoding:**\n",
    "- Use label encoding when the categorical variable has an ordinal relationship or an inherent order. Label encoding assigns a numerical label to each category, representing the order or rank of the category.\n",
    "- Label encoding can be suitable when the number of unique categories is large, as it avoids creating a high-dimensional feature space like one-hot encoding.\n",
    "- Label encoding is commonly used when applying machine learning algorithms that can leverage the ordinal relationship between categories, such as linear regression, support vector machines, or gradient boosting algorithms.\n",
    "\n",
    "It's important to note that some machine learning algorithms may interpret label-encoded variables as having a meaningful order, even if the original data had no inherent order. In such cases, one-hot encoding might be preferred to avoid introducing unintended relationships between categories.\n",
    "\n",
    "In summary, one-hot encoding is generally preferred for unordered categorical variables, while label encoding can be suitable for ordered categorical variables. Consider the characteristics of your data, the nature of the categorical variable, and the requirements of your analysis or machine learning model to make an informed decision on which encoding method to use."
   ]
  },
  {
   "cell_type": "markdown",
   "id": "6416f1d8",
   "metadata": {},
   "source": [
    "## Polynomial Transformation\n",
    "Polynomial transformation involves creating new features by raising existing features to various powers. This is helpful in capturing non-linear relationships between variables and can improve the performance of models that assume linear relationships."
   ]
  },
  {
   "cell_type": "code",
   "execution_count": null,
   "id": "a2acffbe",
   "metadata": {},
   "outputs": [],
   "source": [
    "import numpy as np\n",
    "from sklearn.preprocessing import PolynomialFeatures\n",
    "\n",
    "# Sample data\n",
    "X = np.array([1, 2, 3]).reshape(-1, 1)\n",
    "\n",
    "# Perform polynomial transformation\n",
    "poly = PolynomialFeatures(degree=2)\n",
    "X_poly = poly.fit_transform(X)\n",
    "\n",
    "print(\"Original Features:\")\n",
    "print(X)\n",
    "print()\n",
    "\n",
    "print(\"Polynomial Features:\")\n",
    "print(X_poly)"
   ]
  },
  {
   "cell_type": "markdown",
   "id": "cf6e7816",
   "metadata": {},
   "source": [
    "### what is the use case for Polynomial Transformation?\n",
    "\n",
    "***key words = capturing non-linear relationships between features***\n",
    "\n",
    "Polynomial transformation is useful in various data analysis and machine learning scenarios where capturing non-linear relationships between variables is important. Here are some common use cases for polynomial transformation:\n",
    "\n",
    "1. **Regression Analysis**: In regression analysis, polynomial transformation can help capture non-linear relationships between the independent variables (features) and the dependent variable (target). By introducing polynomial features, the regression model can better fit curved or non-linear patterns in the data.\n",
    "\n",
    "2. **Feature Engineering**: Polynomial transformation can be used as a feature engineering technique to create new features that capture complex interactions between variables. It allows you to introduce higher-order terms and interaction terms, which can be valuable in improving the performance of machine learning models.\n",
    "\n",
    "3. **Data Visualization**: Polynomial transformation can be useful for visualizing data in higher-dimensional spaces. By transforming the original features into polynomial features, you can create new axes that reveal non-linear patterns and relationships, making it easier to visualize and interpret the data.\n",
    "\n",
    "4. **Decision Boundaries**: In classification problems, polynomial transformation can help capture non-linear decision boundaries between classes. By introducing polynomial features, you can enable a linear classifier to learn more complex decision boundaries, improving the model's ability to separate different classes in the feature space.\n",
    "\n",
    "5. **Time Series Analysis**: Polynomial transformation can be applied to time series data to capture non-linear trends and seasonality patterns. By introducing polynomial features, you can model and forecast time series data that exhibit non-linear behavior.\n",
    "\n",
    "It's important to note that the use of polynomial transformation should be guided by the specific characteristics of your data and the problem you are trying to solve. While polynomial transformation can be effective in capturing non-linear relationships, it can also introduce complexity and potential overfitting, especially with higher degrees of polynomials. Careful experimentation and validation are necessary to determine the optimal degree of polynomial transformation for your specific use case."
   ]
  },
  {
   "cell_type": "markdown",
   "id": "a3c26232",
   "metadata": {
    "jp-MarkdownHeadingCollapsed": true,
    "tags": []
   },
   "source": [
    "# Feature Selection\n",
    "Feature selection is a process of selecting a subset of relevant features from a larger set of available features in a dataset. It aims to improve model performance, reduce complexity, and mitigate the risk of overfitting."
   ]
  },
  {
   "cell_type": "markdown",
   "id": "f69c54a6",
   "metadata": {},
   "source": [
    "## Removing Irrelevant Features"
   ]
  },
  {
   "cell_type": "markdown",
   "id": "5e44cd81",
   "metadata": {},
   "source": [
    "### Variance Thresholding:\n",
    "\n",
    "****it is usually used for continuous features****\n",
    "\n",
    " - This approach is based on the idea that features with low variance across the dataset may not contain much useful information for the prediction task.\n",
    " - Calculate the variance of each feature and remove those with variances below a certain threshold.\n",
    "   Features with low variance are likely to have constant or near-constant values, indicating little variability, and thus may not contribute significantly to the model.\n",
    "\n",
    " - This technique is useful for continuous features but may not be suitable for categorical features without appropriate encoding."
   ]
  },
  {
   "cell_type": "code",
   "execution_count": null,
   "id": "d69c9e8a",
   "metadata": {},
   "outputs": [],
   "source": [
    "import numpy as np\n",
    "import pandas as pd\n",
    "\n",
    "# Load the dataset\n",
    "data = pd.read_csv('your_dataset.csv')\n",
    "\n",
    "# Calculate feature variances\n",
    "variances = data.var()\n",
    "\n",
    "# Set a threshold for low variance\n",
    "threshold = 0.1\n",
    "\n",
    "# Identify low-variance features\n",
    "low_variance_features = variances[variances <= threshold].index.tolist()\n",
    "\n",
    "# Remove irrelevant features\n",
    "data_filtered = data.drop(low_variance_features, axis=1)"
   ]
  },
  {
   "cell_type": "markdown",
   "id": "71af0659",
   "metadata": {},
   "source": [
    "### Univariate Feature Selection\n",
    "   - Univariate feature selection methods evaluate the relationship between each feature and the target variable independently.\n",
    "   - Common statistical tests, such as chi-square test for categorical targets or ANOVA/F-test for continuous targets, can be used to assess the significance of each feature.\n",
    "   - Features with low statistical scores or p-values above a predetermined threshold are considered less relevant and can be removed.\n",
    "   - Univariate feature selection is straightforward to implement and provides a quick way to eliminate features that have weak associations with the target variable."
   ]
  },
  {
   "cell_type": "code",
   "execution_count": null,
   "id": "9f43a7bb",
   "metadata": {},
   "outputs": [],
   "source": [
    "from sklearn.feature_selection import SelectKBest, chi2\n",
    "import pandas as pd\n",
    "\n",
    "# Load the dataset\n",
    "data = pd.read_csv('your_dataset.csv')\n",
    "\n",
    "# Separate the features and the target variable\n",
    "X = data.drop('target', axis=1)  # Features (excluding the target)\n",
    "y = data['target']  # Target variable\n",
    "\n",
    "# Perform univariate feature selection\n",
    "k = 10  # Number of top features to select\n",
    "selector = SelectKBest(score_func=chi2, k=k)  # Use chi-square test as the scoring function\n",
    "X_new = selector.fit_transform(X, y)  # Select the top k features\n",
    "\n",
    "# Get the indices of the selected features\n",
    "selected_feature_indices = selector.get_support(indices=True)\n",
    "\n",
    "# Get the names of the selected features\n",
    "selected_features = X.columns[selected_feature_indices]\n",
    "\n",
    "# Create a new dataframe with the selected features\n",
    "data_selected = data[selected_features]"
   ]
  },
  {
   "cell_type": "markdown",
   "id": "e9c4b047-0f0d-41f9-abcb-732b0ccea21c",
   "metadata": {
    "tags": []
   },
   "source": [
    "### Correlation Analysis\n",
    "   - Correlation analysis examines the linear relationship between features and the target variable or between different features themselves.\n",
    "   - Features that have a weak correlation with the target or are highly correlated with other features may be less informative or redundant.\n",
    "   - Calculate the correlation coefficients (e.g., Pearson's correlation) between each feature and the target and/or between pairs of features.\n",
    "   - Features with low correlation coefficients or high inter-feature correlations above a certain threshold can be considered less relevant and removed.\n",
    "   - Be cautious with multicollinearity, as highly correlated features may still be individually important."
   ]
  },
  {
   "cell_type": "code",
   "execution_count": null,
   "id": "a1ca2ff0-4cf1-4bcf-aab4-d959378b631c",
   "metadata": {},
   "outputs": [],
   "source": [
    "import pandas as pd\n",
    "import numpy as np\n",
    "\n",
    "# Load the dataset\n",
    "data = pd.read_csv('your_dataset.csv')\n",
    "\n",
    "# Compute the correlation matrix\n",
    "corr_matrix = data.corr()\n",
    "\n",
    "# Set a correlation threshold\n",
    "threshold = 0.7\n",
    "\n",
    "# Find highly correlated features\n",
    "highly_correlated_features = np.where(np.abs(corr_matrix) > threshold)\n",
    "\n",
    "# Get the indices of the highly correlated features\n",
    "correlated_feature_indices = [(corr_matrix.index[x], corr_matrix.columns[y]) for x, y in zip(*highly_correlated_features) if x != y and x < y]\n",
    "\n",
    "# Print the highly correlated features\n",
    "for feature1, feature2 in correlated_feature_indices:\n",
    "    print(f\"{feature1} and {feature2} are highly correlated.\")"
   ]
  },
  {
   "cell_type": "markdown",
   "id": "d2d3d96f-d741-40d4-827a-6c038803b881",
   "metadata": {
    "tags": []
   },
   "source": [
    "## Feature Importance Ranking\n",
    "   - This approach ranks features based on their importance or contribution to the predictive model.\n",
    "   - Techniques like Random Forest, Gradient Boosting, or Extra Trees can be used to estimate feature importance.\n",
    "   - These methods assign importance scores to each feature based on how much they contribute to reducing the prediction error.\n",
    "   - Features with low importance scores can be considered less relevant and removed from the dataset.\n",
    "   - Feature importance ranking is particularly useful for tree-based models but can be applied to other algorithms as well.\n",
    "\n",
    "Feature Importance Ranking methods are used to assess the importance or contribution of each feature in a dataset towards the predictive model's performance. These methods assign importance scores or ranks to features, indicating their relative significance in making accurate predictions. Here are explanations of three commonly used Feature Importance Ranking methods:"
   ]
  },
  {
   "cell_type": "markdown",
   "id": "c543e883-4375-48a8-a021-bc300b9d9221",
   "metadata": {
    "tags": []
   },
   "source": [
    "### Tree-Based Methods\n",
    "   - Tree-based models, such as Random Forest and Gradient Boosting, offer a built-in feature importance mechanism.\n",
    "   - These methods calculate feature importance based on how much each feature reduces the impurity or error in the model's predictions.\n",
    "   - The importance of a feature is computed by aggregating its impact across all decision trees in the ensemble model.\n",
    "   - Typically, the higher the importance score, the more influential the feature is in making accurate predictions.\n",
    "   - Tree-based feature importance is useful for identifying the most informative features in the dataset, especially in the context of decision tree-based models."
   ]
  },
  {
   "cell_type": "code",
   "execution_count": null,
   "id": "2e47eb43-f6a6-442f-9e68-6aa990da6b96",
   "metadata": {},
   "outputs": [],
   "source": [
    "from sklearn.ensemble import RandomForestClassifier\n",
    "import pandas as pd\n",
    "\n",
    "# Load the dataset\n",
    "data = pd.read_csv('your_dataset.csv')\n",
    "\n",
    "# Separate the features and the target variable\n",
    "X = data.drop('target', axis=1)  # Features (excluding the target)\n",
    "y = data['target']  # Target variable\n",
    "\n",
    "# Create a Random Forest Classifier\n",
    "rf = RandomForestClassifier()\n",
    "\n",
    "# Fit the classifier to the data\n",
    "rf.fit(X, y)\n",
    "\n",
    "# Get feature importances\n",
    "importances = rf.feature_importances_\n",
    "\n",
    "# Create a dataframe with feature names and importances\n",
    "feature_importances = pd.DataFrame({'Feature': X.columns, 'Importance': importances})\n",
    "\n",
    "# Sort the features by importance\n",
    "feature_importances = feature_importances.sort_values('Importance', ascending=False)\n",
    "\n",
    "# Print the feature importances\n",
    "print(feature_importances)"
   ]
  },
  {
   "cell_type": "markdown",
   "id": "6bae745f-f300-4728-9d6f-7d1fcab0b320",
   "metadata": {
    "tags": []
   },
   "source": [
    "### Permutation Importance\n",
    "   - Permutation Importance is a model-agnostic method that measures feature importance by evaluating the model's performance when individual features are randomly shuffled.\n",
    "   - The idea is to assess the drop in model performance when a feature's values are randomly permuted, indicating the importance of that feature in the original model.\n",
    "   - By permuting each feature independently and measuring the resulting performance decrease, a permutation importance score can be calculated for each feature.\n",
    "   - Permutation Importance is beneficial when you want to assess feature importance for any type of model, regardless of its underlying algorithm."
   ]
  },
  {
   "cell_type": "code",
   "execution_count": null,
   "id": "d3324473-3beb-4985-b624-003d854a7b7e",
   "metadata": {},
   "outputs": [],
   "source": [
    "from sklearn.ensemble import RandomForestClassifier\n",
    "from sklearn.inspection import permutation_importance\n",
    "import pandas as pd\n",
    "\n",
    "# Load the dataset\n",
    "data = pd.read_csv('your_dataset.csv')\n",
    "\n",
    "# Separate the features and the target variable\n",
    "X = data.drop('target', axis=1)  # Features (excluding the target)\n",
    "y = data['target']  # Target variable\n",
    "\n",
    "# Create a Random Forest Classifier\n",
    "rf = RandomForestClassifier()\n",
    "\n",
    "# Fit the classifier to the data\n",
    "rf.fit(X, y)\n",
    "\n",
    "# Perform permutation importance\n",
    "result = permutation_importance(rf, X, y, n_repeats=10, random_state=42)\n",
    "\n",
    "# Get feature importances\n",
    "importances = result.importances_mean\n",
    "\n",
    "# Create a dataframe with feature names and importances\n",
    "feature_importances = pd.DataFrame({'Feature': X.columns, 'Importance': importances})\n",
    "\n",
    "# Sort the features by importance\n",
    "feature_importances = feature_importances.sort_values('Importance', ascending=False)\n",
    "\n",
    "# Print the feature importances\n",
    "print(feature_importances)"
   ]
  },
  {
   "cell_type": "markdown",
   "id": "778ce095-5f1b-4353-9fc1-99897a65c606",
   "metadata": {
    "tags": []
   },
   "source": [
    "### L1 Regularization (Lasso)\n",
    "   - L1 regularization, often used in linear models like Linear Regression or Logistic Regression, encourages sparsity in feature coefficients.\n",
    "   - By applying L1 regularization, the model tends to push the coefficients of irrelevant features towards zero.\n",
    "   - Features with non-zero coefficients after regularization are considered important since they contribute significantly to the model's predictions.\n",
    "   - The magnitude of the non-zero coefficients can be used as a measure of feature importance.\n",
    "   - **L1 regularization is advantageous when interpretability and feature selection are key concerns.**\n",
    "\n",
    "These feature importance ranking methods provide valuable insights into the relevance of features for predictive modeling. They guide feature selection, help identify key variables, and can improve understanding of the underlying data relationships. It's important to note that different methods may yield different importance rankings, and the choice of the method should be based on the specific problem, model, and data characteristics."
   ]
  },
  {
   "cell_type": "code",
   "execution_count": null,
   "id": "28c03f6b-505d-4eb0-9669-747c8817b3f1",
   "metadata": {},
   "outputs": [],
   "source": [
    "from sklearn.linear_model import Lasso\n",
    "import pandas as pd\n",
    "\n",
    "# Load the dataset\n",
    "data = pd.read_csv('your_dataset.csv')\n",
    "\n",
    "# Separate the features and the target variable\n",
    "X = data.drop('target', axis=1)  # Features (excluding the target)\n",
    "y = data['target']  # Target variable\n",
    "\n",
    "# Create a Lasso model\n",
    "lasso = Lasso(alpha=0.1)  # Adjust the alpha value as needed\n",
    "\n",
    "# Fit the Lasso model to the data\n",
    "lasso.fit(X, y)\n",
    "\n",
    "# Get feature importances (coefficients)\n",
    "importances = lasso.coef_\n",
    "\n",
    "# Create a dataframe with feature names and importances\n",
    "feature_importances = pd.DataFrame({'Feature': X.columns, 'Importance': importances})\n",
    "\n",
    "# Sort the features by importance\n",
    "feature_importances = feature_importances.sort_values('Importance', ascending=False)\n",
    "\n",
    "# Print the feature importances\n",
    "print(feature_importances)"
   ]
  },
  {
   "cell_type": "markdown",
   "id": "daf58e57-da4f-4237-9ee7-1382f3fe0461",
   "metadata": {},
   "source": [
    "## Dimensionality reduction\n",
    "\n",
    "Dimensionality reduction techniques are methods used to reduce the number of features or variables in a dataset while preserving or capturing the most important information.\n",
    "****These techniques are particularly useful when dealing with high-dimensional data, where the number of features is much larger than the number of samples, as they can help alleviate the curse of dimensionality and improve computational efficiency.****\n",
    "\n",
    "Here's a list of commonly used dimensionality reduction techniques:\n",
    "\n",
    "1. Principal Component Analysis (PCA)\n",
    "2. Linear Discriminant Analysis (LDA)\n",
    "3. t-Distributed Stochastic Neighbor Embedding (t-SNE)\n",
    "4. Isomap\n",
    "5. Locally Linear Embedding (LLE)\n",
    "6. Laplacian Eigenmaps\n",
    "7. Autoencoders\n",
    "8. Independent Component Analysis (ICA)\n",
    "9. Random Projection\n",
    "10. Non-negative Matrix Factorization (NMF)\n",
    "11. Sparse Principal Component Analysis (Sparse PCA)\n",
    "12. Factor Analysis\n",
    "13. Multidimensional Scaling (MDS)\n",
    "14. Neighborhood Components Analysis (NCA)\n",
    "15. Kernel PCA\n",
    "16. Incremental PCA\n",
    "17. Robust Principal Component Analysis (Robust PCA)\n",
    "18. Deep Belief Networks (DBN)\n",
    "19. Quadratic Discriminant Analysis (QDA)\n",
    "20. Stacked Denoising Autoencoders\n",
    "21. Curvilinear Component Analysis (CCA)\n",
    "22. Maximum Variance Unfolding (MVU)\n",
    "23. Feature Agglomeration\n",
    "24. Dictionary Learning\n",
    "25. Partial Least Squares (PLS)\n",
    "\n",
    "This list covers a range of techniques, including both linear and non-linear methods, unsupervised and supervised approaches, and a variety of algorithms. Each technique has its own assumptions, strengths, and limitations, so it's important to choose the appropriate technique based on the specific characteristics of your dataset and the goals of your analysis."
   ]
  },
  {
   "cell_type": "markdown",
   "id": "27be9d62-b18d-427d-9493-91814b062231",
   "metadata": {},
   "source": [
    "### Principal Component Analysis (PCA):\n",
    "   PCA is a linear dimensionality reduction technique that identifies the directions (principal components) in the feature space along which the data varies the most. The goal is to transform the original features into a new set of uncorrelated variables called principal components. The first principal component captures the largest amount of variance in the data, followed by the subsequent components in descending order. By selecting a subset of the principal components or projecting the data onto a lower-dimensional space, PCA effectively reduces the dimensionality of the dataset."
   ]
  },
  {
   "cell_type": "code",
   "execution_count": null,
   "id": "bde16fe5-63ac-4020-be4f-c7b38fbd4d84",
   "metadata": {},
   "outputs": [],
   "source": [
    "from sklearn.decomposition import PCA\n",
    "import pandas as pd\n",
    "\n",
    "# Load the dataset\n",
    "data = pd.read_csv('your_dataset.csv')\n",
    "\n",
    "# Separate the features and the target variable\n",
    "X = data.drop('target', axis=1)  # Features (excluding the target)\n",
    "y = data['target']  # Target variable\n",
    "\n",
    "# Create a PCA object with the desired number of components\n",
    "n_components = 2  # Adjust the number of components as needed\n",
    "pca = PCA(n_components=n_components)\n",
    "\n",
    "# Fit the PCA model to the data\n",
    "pca.fit(X)\n",
    "\n",
    "# Transform the data to the lower-dimensional space\n",
    "X_pca = pca.transform(X)\n",
    "\n",
    "# Create a new dataframe with the principal components\n",
    "columns = [f'PC{i+1}' for i in range(n_components)]\n",
    "df_pca = pd.DataFrame(data=X_pca, columns=columns)\n",
    "\n",
    "# Print the explained variance ratio\n",
    "explained_variance_ratio = pca.explained_variance_ratio_\n",
    "print(\"Explained variance ratio:\", explained_variance_ratio)\n",
    "\n",
    "# Print the cumulative explained variance\n",
    "cumulative_variance = np.cumsum(explained_variance_ratio)\n",
    "print(\"Cumulative explained variance:\", cumulative_variance)\n",
    "\n",
    "# Print the principal components' loadings (coefficients)\n",
    "loadings = pd.DataFrame(data=pca.components_.T, columns=columns, index=X.columns)\n",
    "print(\"Principal components loadings:\")\n",
    "print(loadings)"
   ]
  },
  {
   "cell_type": "markdown",
   "id": "ee5ebcc4-194e-4138-8e2f-b1f441c49174",
   "metadata": {},
   "source": [
    "### t-Distributed Stochastic Neighbor Embedding (t-SNE):\n",
    "   t-SNE is a non-linear dimensionality reduction technique that focuses on preserving the local structure of the data. It is particularly useful for visualizing high-dimensional data in two or three dimensions. t-SNE constructs a probability distribution over pairs of high-dimensional data points and a similar distribution over the corresponding points in the low-dimensional representation. It minimizes the divergence between these two distributions to find a lower-dimensional embedding that maintains the neighborhood relationships of the original data points. t-SNE is often used for exploratory data analysis and clustering visualization.\n"
   ]
  },
  {
   "cell_type": "code",
   "execution_count": null,
   "id": "716b70c3-f894-454a-90b4-b5d2a220f56a",
   "metadata": {},
   "outputs": [],
   "source": [
    "from sklearn.manifold import TSNE\n",
    "import pandas as pd\n",
    "\n",
    "# Load the dataset\n",
    "data = pd.read_csv('your_dataset.csv')\n",
    "\n",
    "# Separate the features and the target variable\n",
    "X = data.drop('target', axis=1)  # Features (excluding the target)\n",
    "y = data['target']  # Target variable\n",
    "\n",
    "# Create a t-SNE object with the desired number of components\n",
    "n_components = 2  # Adjust the number of components as needed\n",
    "tsne = TSNE(n_components=n_components)\n",
    "\n",
    "# Transform the data to the lower-dimensional space\n",
    "X_tsne = tsne.fit_transform(X)\n",
    "\n",
    "# Create a new dataframe with the t-SNE components\n",
    "columns = [f'Component{i+1}' for i in range(n_components)]\n",
    "df_tsne = pd.DataFrame(data=X_tsne, columns=columns)\n",
    "\n",
    "# Print the t-SNE components\n",
    "print(df_tsne)"
   ]
  },
  {
   "cell_type": "markdown",
   "id": "f3dd1710-8da0-4087-bc83-4e2d905df14e",
   "metadata": {
    "jp-MarkdownHeadingCollapsed": true,
    "tags": []
   },
   "source": [
    "# Handling Imbalanced Data\n",
    "\n",
    "Handling imbalanced data is a common challenge in machine learning, where the number of samples in one class is significantly higher or lower than the other classes. Imbalanced data can lead to biased models that favor the majority class and have poor performance on the minority class. Here are some techniques to address imbalanced data:"
   ]
  },
  {
   "cell_type": "markdown",
   "id": "cd305872-7dc2-46f2-b48b-6ecc1d4c5589",
   "metadata": {},
   "source": [
    "## Resampling Techniques:\n",
    "   - Oversampling: Increase the number of instances in the minority class by randomly replicating samples or generating synthetic data points using techniques like Synthetic Minority Over-sampling Technique (SMOTE) or Adaptive Synthetic (ADASYN).\n",
    "   - Undersampling: Reduce the number of instances in the majority class by randomly removing samples or selecting a subset of samples from the majority class."
   ]
  },
  {
   "cell_type": "markdown",
   "id": "58ef6f82",
   "metadata": {},
   "source": [
    "### Oversampling:\n",
    "   Oversampling involves increasing the number of instances in the minority class to match the majority class. Here are a few commonly used oversampling methods:"
   ]
  },
  {
   "cell_type": "markdown",
   "id": "739f6788",
   "metadata": {},
   "source": [
    "#### Random Oversampling\n",
    "Randomly duplicates instances from the minority class until it reaches a desired balance. This technique can lead to overfitting if the same instances are replicated too frequently."
   ]
  },
  {
   "cell_type": "code",
   "execution_count": null,
   "id": "463bdf6b",
   "metadata": {},
   "outputs": [],
   "source": [
    "from imblearn.over_sampling import RandomOverSampler\n",
    "\n",
    "# X: Features, y: Target variable\n",
    "ros = RandomOverSampler(random_state=42)\n",
    "X_resampled, y_resampled = ros.fit_resample(X, y)\n",
    "\n",
    "# Check the class distribution after oversampling\n",
    "unique, counts = np.unique(y_resampled, return_counts=True)\n",
    "class_distribution = dict(zip(unique, counts))\n",
    "print(\"Class Distribution after Random Oversampling: \", class_distribution)"
   ]
  },
  {
   "cell_type": "markdown",
   "id": "22207c64",
   "metadata": {},
   "source": [
    "#### Synthetic Minority Over-sampling Technique (SMOTE)\n",
    "Synthetic Minority Over-sampling Technique (SMOTE) is an oversampling method commonly used to address class imbalance in machine learning tasks. It aims to increase the number of instances in the minority class by generating synthetic samples based on the existing minority samples."
   ]
  },
  {
   "cell_type": "code",
   "execution_count": null,
   "id": "cd6f5887",
   "metadata": {},
   "outputs": [],
   "source": [
    "from imblearn.over_sampling import SMOTE\n",
    "\n",
    "# X: Features, y: Target variable\n",
    "smote = SMOTE(random_state=42)\n",
    "X_resampled, y_resampled = smote.fit_resample(X, y)\n",
    "\n",
    "# Check the class distribution after SMOTE\n",
    "unique, counts = np.unique(y_resampled, return_counts=True)\n",
    "class_distribution = dict(zip(unique, counts))\n",
    "print(\"Class Distribution after SMOTE: \", class_distribution)"
   ]
  },
  {
   "cell_type": "markdown",
   "id": "d7cc6b87",
   "metadata": {},
   "source": [
    "#### Adaptive Synthetic (ADASYN)\n",
    "Adaptive Synthetic Sampling (ADASYN) is an extension of the Synthetic Minority Over-sampling Technique (SMOTE) that aims to overcome one of SMOTE's limitations. SMOTE generates synthetic samples uniformly for the minority class, regardless of the difficulty of learning each instance. ADASYN, on the other hand, adaptively adjusts the generation of synthetic samples based on the level of difficulty in learning different minority instances."
   ]
  },
  {
   "cell_type": "code",
   "execution_count": null,
   "id": "e2e1f53a",
   "metadata": {},
   "outputs": [],
   "source": [
    "from imblearn.over_sampling import ADASYN\n",
    "\n",
    "# X: Features, y: Target variable\n",
    "adasyn = ADASYN(random_state=42)\n",
    "X_resampled, y_resampled = adasyn.fit_resample(X, y)\n",
    "\n",
    "# Check the class distribution after ADASYN\n",
    "unique, counts = np.unique(y_resampled, return_counts=True)\n",
    "class_distribution = dict(zip(unique, counts))\n",
    "print(\"Class Distribution after ADASYN: \", class_distribution)"
   ]
  },
  {
   "cell_type": "markdown",
   "id": "1850b3f9",
   "metadata": {},
   "source": [
    "*****Attention: check methods bellow later*****\n",
    "\n",
    " - Borderline SMOTE:\n",
    " \n",
    "     - Classifies instances in the minority class as safe, borderline, or rare based on their proximity to the majority class.\n",
    "        Applies SMOTE only to the borderline instances, which are closer to the decision boundary.\n",
    "        It focuses on the instances that are more challenging to classify and avoids oversampling noisy or well-separated instances.\n",
    " \n",
    "\n",
    "\n",
    " - SMOTE-ENN:\n",
    "     - Combines SMOTE and Edited Nearest Neighbors (ENN) undersampling method.It applies SMOTE to oversample the minority class and then applies ENN to remove noisy or misclassified instances from both classes.It aims to create synthetic samples for the minority class while reducing the instances that might cause misclassification.\n",
    "    \n",
    " - SMOTE-Tomek:\n",
    "     - Combines SMOTE and Tomek Links undersampling method.It applies SMOTE to oversample the minority class and then removes instances from both classes that form Tomek links, which are pairs of instances from different classes that are the nearest neighbors of each other.It aims to create synthetic samples for the minority class while increasing the separation between classes.\n",
    "\n",
    " - G-SMOTE:\n",
    "    - Generates synthetic samples for the minority class by considering the density distribution of instances.It creates synthetic samples in both dense and sparse regions of the minority class, allowing for a more diverse oversampling.\n"
   ]
  },
  {
   "cell_type": "markdown",
   "id": "3fb4d919",
   "metadata": {},
   "source": [
    "### Undersampling\n",
    "   Undersampling reduces the number of instances in the majority class to match the minority class. Here are a couple of commonly used undersampling methods:"
   ]
  },
  {
   "cell_type": "markdown",
   "id": "ecd5b7c1",
   "metadata": {},
   "source": [
    "#### Random Undersampling\n",
    "Randomly removes instances from the majority class until the desired balance is achieved. This technique may discard useful information and potentially lead to underfitting if the removed instances contain crucial patterns."
   ]
  },
  {
   "cell_type": "code",
   "execution_count": null,
   "id": "5ea8f1f2",
   "metadata": {},
   "outputs": [],
   "source": [
    "from imblearn.under_sampling import RandomUnderSampler\n",
    "from sklearn.datasets import make_classification\n",
    "\n",
    "# Generate a synthetic imbalanced dataset\n",
    "X, y = make_classification(n_samples=1000, n_features=10, weights=[0.9, 0.1], random_state=42)\n",
    "\n",
    "# Count the number of instances in each class\n",
    "unique, counts = np.unique(y, return_counts=True)\n",
    "print(\"Class distribution before random undersampling:\")\n",
    "print(dict(zip(unique, counts)))\n",
    "\n",
    "# Create a RandomUnderSampler object\n",
    "rus = RandomUnderSampler(random_state=42)\n",
    "\n",
    "# Perform random undersampling\n",
    "undersampled_X, undersampled_y = rus.fit_resample(X, y)\n",
    "\n",
    "# Count the number of instances in each class after undersampling\n",
    "unique, counts = np.unique(undersampled_y, return_counts=True)\n",
    "print(\"Class distribution after random undersampling:\")\n",
    "print(dict(zip(unique, counts)))"
   ]
  },
  {
   "cell_type": "markdown",
   "id": "e32572bb",
   "metadata": {},
   "source": [
    "#### Tomek Links\n",
    "Tomek Links are pairs of instances from different classes that are closest to each other. Undersampling based on Tomek Links removes the majority class instance from each pair, making the decision boundary more distinct."
   ]
  },
  {
   "cell_type": "code",
   "execution_count": null,
   "id": "50116b8b",
   "metadata": {},
   "outputs": [],
   "source": [
    "import numpy as np\n",
    "from sklearn.datasets import make_classification\n",
    "from imblearn.under_sampling import TomekLinks\n",
    "\n",
    "# Generate a synthetic imbalanced dataset\n",
    "X, y = make_classification(n_samples=1000, n_features=10, weights=[0.9, 0.1], random_state=42)\n",
    "\n",
    "# Count the number of instances in each class\n",
    "unique, counts = np.unique(y, return_counts=True)\n",
    "print(\"Class distribution before Tomek Links undersampling:\")\n",
    "print(dict(zip(unique, counts)))\n",
    "\n",
    "# Create a TomekLinks object\n",
    "tl = TomekLinks()\n",
    "\n",
    "# Perform Tomek Links undersampling\n",
    "undersampled_X, undersampled_y = tl.fit_resample(X, y)\n",
    "\n",
    "# Count the number of instances in each class after undersampling\n",
    "unique, counts = np.unique(undersampled_y, return_counts=True)\n",
    "print(\"Class distribution after Tomek Links undersampling:\")\n",
    "print(dict(zip(unique, counts)))"
   ]
  },
  {
   "cell_type": "markdown",
   "id": "a85c5fe2",
   "metadata": {},
   "source": [
    "*****Attention: check methods bellow later*****\n",
    "\n",
    "- Edited Nearest Neighbors (ENN):\n",
    "   - Classifies instances using their k nearest neighbors.\n",
    "   - Removes instances from the majority class that are misclassified by their nearest neighbors, as they might be noisy or ambiguous instances.\n",
    "   - It aims to remove instances that are likely to cause misclassification.\n",
    "\n",
    "- One-Sided Selection:\n",
    "   - Combines Tomek Links and ENN.\n",
    "   - Removes instances from the majority class that are Tomek links or misclassified by their nearest neighbors.\n",
    "   - It aims to remove ambiguous and noisy instances while preserving the instances that are easier to classify.\n",
    "\n",
    "- Cluster Centroids:\n",
    "   - Applies clustering algorithms to the majority class instances and identifies cluster centroids.\n",
    "   - Removes instances from the majority class by keeping only the cluster centroids.\n",
    "   - It aims to reduce the redundancy in the majority class instances while maintaining the representative information.\n",
    "\n",
    "- Neighborhood Cleaning Rule (NCR):\n",
    "   - Classifies instances using their k nearest neighbors.\n",
    "   - Removes instances from the majority class that are misclassified by their nearest neighbors and instances that are misclassified by their nearest minority class neighbors.\n",
    "   - It aims to remove instances that are likely to cause misclassification, considering both majority and minority class neighbors.\n",
    "\n",
    "Under-sampling methods can help balance the class distribution, reduce the dominance of the majority class, and improve the learning ability of models on the minority class. However, under-sampling can also result in the loss of valuable information from the majority class, which may affect the overall performance of the model. It's important to evaluate the impact of under-sampling on the model's performance and consider other techniques like over-sampling, ensemble methods, or hybrid approaches to address class imbalance effectively."
   ]
  },
  {
   "cell_type": "markdown",
   "id": "935452b1",
   "metadata": {},
   "source": [
    "### Combination Methods\n",
    "Combination methods involve a combination of oversampling and undersampling techniques.\n",
    "Combination methods for undersampling and oversampling are techniques that combine both undersampling and oversampling strategies to address class imbalance in a dataset. These methods aim to provide a more balanced representation of the minority and majority classes by removing some instances from the majority class and generating or replicating instances for the minority class."
   ]
  },
  {
   "cell_type": "markdown",
   "id": "3a370598",
   "metadata": {},
   "source": [
    "#### SMOTEENN\n",
    "SMOTEENN combines SMOTE and Edited Nearest Neighbors (ENN).It oversamples the minority class using SMOTE and then cleans the resulting dataset using ENN, which removes instances misclassified by a classifier."
   ]
  },
  {
   "cell_type": "markdown",
   "id": "686f126b",
   "metadata": {},
   "source": [
    "#### SMOTETomek\n",
    "SMOTETomek combines SMOTE and Tomek Links. It first oversamples the minority class using SMOTE and then removes instances using Tomek Links."
   ]
  },
  {
   "cell_type": "markdown",
   "id": "3e34fea5",
   "metadata": {},
   "source": [
    "These resampling techniques help balance the class distribution, allowing machine learning models to learn from the minority class more effectively. However, it's important to note that the choice of resampling technique should be based on the specific dataset and problem at hand, and it's always recommended to evaluate the performance of the model using appropriate evaluation metrics."
   ]
  },
  {
   "cell_type": "markdown",
   "id": "51e377d0",
   "metadata": {},
   "source": [
    "*****Attention: check methods bellow later*****\n",
    "\n",
    "3. SMOTE-ENN (SMOTE + Edited Nearest Neighbors):\n",
    "   SMOTE-ENN is another combination method that applies SMOTE for oversampling and ENN for undersampling. It generates synthetic instances for the minority class using SMOTE and then removes instances from both classes using ENN similar to SMOTEENN.\n",
    "\n",
    "4. SMOTE-Tomek (SMOTE + Tomek Links):\n",
    "   SMOTE-Tomek combines SMOTE for oversampling and Tomek Links for undersampling. It applies SMOTE to generate synthetic instances for the minority class and then removes instances using Tomek Links, which are pairs of instances from different classes that are nearest neighbors and are removed to improve the class separation.\n",
    "\n",
    "These combination methods aim to address the imbalance issue by effectively combining undersampling and oversampling techniques. By removing redundant and noisy instances from the majority class and generating or replicating instances for the minority class, these methods help achieve a more balanced distribution of classes in the dataset. The specific combination method to choose depends on the characteristics of the dataset and the problem at hand."
   ]
  },
  {
   "cell_type": "markdown",
   "id": "b7819b3a-0f96-428f-ac38-b2edc495f66e",
   "metadata": {},
   "source": [
    "## Class Weighting:\n",
    "   - Assign higher weights to the minority class during model training to increase its importance and prevent the model from being biased towards the majority class. This can be achieved by adjusting the class weights in the loss function or using algorithms that inherently handle class imbalance, such as Balanced Random Forest or Weighted SVM."
   ]
  },
  {
   "cell_type": "code",
   "execution_count": null,
   "id": "2630bf22",
   "metadata": {},
   "outputs": [],
   "source": [
    "import numpy as np\n",
    "from sklearn import datasets\n",
    "from sklearn.model_selection import train_test_split\n",
    "from sklearn.linear_model import LogisticRegression\n",
    "from sklearn.utils.class_weight import compute_class_weight\n",
    "\n",
    "# Load dataset (iris is a balanced dataset, so we'll artificially create class imbalance)\n",
    "iris = datasets.load_iris()\n",
    "X = iris.data\n",
    "y = iris.target\n",
    "\n",
    "# Creating class imbalance by duplicating instances of class 2\n",
    "imbalanced_X = np.concatenate((X, X[y == 2]), axis=0)\n",
    "imbalanced_y = np.concatenate((y, np.full(sum(y == 2), 2)), axis=0)\n",
    "\n",
    "# Split data into training and testing sets\n",
    "X_train, X_test, y_train, y_test = train_test_split(imbalanced_X, imbalanced_y, test_size=0.3, random_state=42)\n",
    "\n",
    "# Compute class weights\n",
    "class_weights = compute_class_weight('balanced', np.unique(y_train), y_train)\n",
    "\n",
    "# Convert class weights to dictionary format\n",
    "class_weight_dict = {i: weight for i, weight in enumerate(class_weights)}\n",
    "\n",
    "# Create and train the logistic regression model with class weighting\n",
    "model = LogisticRegression(class_weight=class_weight_dict)\n",
    "model.fit(X_train, y_train)\n",
    "\n",
    "# Evaluate the model\n",
    "accuracy = model.score(X_test, y_test)\n",
    "print(\"Accuracy:\", accuracy)"
   ]
  },
  {
   "cell_type": "markdown",
   "id": "5e2a8377-8c5c-415c-9b3e-7ce794b232cc",
   "metadata": {},
   "source": [
    "## Ensemble Methods:\n",
    "   - Ensemble techniques like Bagging and Boosting can be effective in handling imbalanced data. These methods combine multiple models to improve performance. For instance, in Boosting algorithms like AdaBoost or Gradient Boosting, misclassified samples are given more weight during subsequent iterations, helping the model focus on the minority class."
   ]
  },
  {
   "cell_type": "markdown",
   "id": "8b5ef83c",
   "metadata": {},
   "source": [
    "\n",
    "### Bagging (Bootstrap Aggregating):\n",
    "\n",
    "Bagging is a method that combines multiple models trained on different subsets of the training data, potentially reducing overfitting. Here's an example of using the BaggingClassifier from scikit-learn:\n"
   ]
  },
  {
   "cell_type": "code",
   "execution_count": null,
   "id": "247eb52e",
   "metadata": {},
   "outputs": [],
   "source": [
    "from sklearn.ensemble import BaggingClassifier\n",
    "from sklearn.tree import DecisionTreeClassifier\n",
    "from sklearn.datasets import load_iris\n",
    "from sklearn.model_selection import train_test_split\n",
    "from sklearn.metrics import accuracy_score\n",
    "\n",
    "# Load iris dataset\n",
    "iris = load_iris()\n",
    "X, y = iris.data, iris.target\n",
    "\n",
    "# Split the data into training and testing sets\n",
    "X_train, X_test, y_train, y_test = train_test_split(X, y, test_size=0.2, random_state=42)\n",
    "\n",
    "# Create a base classifier to be used in bagging\n",
    "base_classifier = DecisionTreeClassifier()\n",
    "\n",
    "# Create a bagging classifier with 100 base classifiers\n",
    "bagging_classifier = BaggingClassifier(base_classifier, n_estimators=100, random_state=42)\n",
    "\n",
    "# Train the bagging classifier\n",
    "bagging_classifier.fit(X_train, y_train)\n",
    "\n",
    "# Make predictions\n",
    "y_pred = bagging_classifier.predict(X_test)\n",
    "\n",
    "# Calculate accuracy\n",
    "accuracy = accuracy_score(y_test, y_pred)\n",
    "print(\"Bagging Accuracy:\", accuracy)\n",
    "```\n",
    "\n",
    "In the above example, we load the Iris dataset and split it into train and test sets. We then create a base classifier, which in this case is a Decision Tree classifier. We create a BaggingClassifier and specify the base classifier and the number of base classifiers in the ensemble (n_estimators).\n",
    "\n",
    "Then, we train the bagging classifier on the training data and make predictions on the test data. Finally, we calculate the accuracy of the bagging classifier.\n"
   ]
  },
  {
   "cell_type": "markdown",
   "id": "25e06481",
   "metadata": {},
   "source": [
    "\n",
    "### Boosting:\n",
    "\n",
    "Boosting is another ensemble method where base classifiers are trained sequentially, and each subsequent classifier tries to correct the mistakes made by the previous ones. AdaBoost (Adaptive Boosting) is a popular boosting algorithm. Here's an example of using AdaBoostClassifier from scikit-learn:\n",
    "\n"
   ]
  },
  {
   "cell_type": "code",
   "execution_count": null,
   "id": "439ae604",
   "metadata": {},
   "outputs": [],
   "source": [
    "\n",
    "from sklearn.ensemble import AdaBoostClassifier\n",
    "from sklearn.tree import DecisionTreeClassifier\n",
    "from sklearn.datasets import load_iris\n",
    "from sklearn.model_selection import train_test_split\n",
    "from sklearn.metrics import accuracy_score\n",
    "\n",
    "# Load iris dataset\n",
    "iris = load_iris()\n",
    "X, y = iris.data, iris.target\n",
    "\n",
    "# Split the data into training and testing sets\n",
    "X_train, X_test, y_train, y_test = train_test_split(X, y, test_size=0.2, random_state=42)\n",
    "\n",
    "# Create a base classifier to be used in boosting\n",
    "base_classifier = DecisionTreeClassifier()\n",
    "\n",
    "# Create an AdaBoost classifier with 100 base classifiers\n",
    "adaboost_classifier = AdaBoostClassifier(base_classifier, n_estimators=100, random_state=42)\n",
    "\n",
    "# Train the AdaBoost classifier\n",
    "adaboost_classifier.fit(X_train, y_train)\n",
    "\n",
    "# Make predictions\n",
    "y_pred = adaboost_classifier.predict(X_test)\n",
    "\n",
    "# Calculate accuracy\n",
    "accuracy = accuracy_score(y_test, y_pred)\n",
    "print(\"AdaBoost Accuracy:\", accuracy)\n",
    "\n",
    "\n",
    "#In the above example, we follow a similar process as with bagging. We create a base classifier (Decision Tree) and use it as the base estimator for AdaBoostClassifier. We specify the number of base classifiers (n_estimators) and train the AdaBoost classifier on the training data.\n",
    "\n",
    "#After training, we make predictions on the test data and calculate the accuracy of the AdaBoost classifier.\n"
   ]
  },
  {
   "cell_type": "markdown",
   "id": "db4c2e2d",
   "metadata": {},
   "source": [
    "\n",
    "### Stacking:\n",
    "\n",
    "Stacking combines multiple models by training a meta-model to make predictions based on the outputs of the individual models. Here's an example of using stacking with scikit-learn:\n"
   ]
  },
  {
   "cell_type": "code",
   "execution_count": null,
   "id": "dd1c7b74",
   "metadata": {},
   "outputs": [],
   "source": [
    "\n",
    "from sklearn.ensemble import StackingClassifier\n",
    "from sklearn.linear_model import LogisticRegression\n",
    "from sklearn.tree import DecisionTreeClassifier\n",
    "from sklearn.datasets import load_iris\n",
    "from sklearn.model_selection import train_test_split\n",
    "from sklearn.metrics import accuracy_score\n",
    "\n",
    "# Load iris dataset\n",
    "iris = load_iris()\n",
    "X, y = iris.data, iris.target\n",
    "\n",
    "# Split the data into training and testing sets\n",
    "X_train, X_test, y_train, y_test = train_test_split(X, y, test_size=0.2, random_state=42)\n",
    "\n",
    "# Create individual models\n",
    "model1 = DecisionTreeClassifier()\n",
    "model2 = LogisticRegression()\n",
    "\n",
    "# Create a stacking classifier with the individual models and meta-model (Logistic Regression)\n",
    "stacking_classifier = StackingClassifier(estimators=[('dt', model1), ('lr', model2)], final_estimator=LogisticRegression())\n",
    "\n",
    "# Train the stacking classifier\n",
    "stacking_classifier.fit(X_train, y_train)\n",
    "\n",
    "# Make predictions\n",
    "y_pred = stacking_classifier.predict(X_test)\n",
    "\n",
    "# Calculate accuracy\n",
    "accuracy = accuracy_score(y_test, y_pred)\n",
    "print(\"Stacking Accuracy:\", accuracy)\n",
    "\n",
    "\n",
    "#In this example, we create two individual models: a Decision Tree classifier (`model1`) and a Logistic Regression classifier (`model2`). We then construct a StackingClassifier and pass these individual models as the estimators. We also specify the final_estimator, which is the meta-model used to make predictions based on the outputs of the individual models (Logistic Regression in this case).\n",
    "\n",
    "#We train the stacking classifier on the training data and make predictions on the test data. Finally, we calculate the accuracy of the stacking classifier.\n",
    "\n",
    "#Note that the above examples provide a general outline of how to use these ensemble methods in scikit-learn. You can customize and fine-tune the models and parameters based on your specific use case and dataset.\n"
   ]
  },
  {
   "cell_type": "markdown",
   "id": "84fcf942-6971-4a3a-93b4-794bc46c7c6f",
   "metadata": {},
   "source": [
    "## Data Augmentation:\n",
    "   - Augment the minority class by creating synthetic samples through techniques like rotation, translation, or noise addition. This can help increase the diversity of the minority class and improve model generalization."
   ]
  },
  {
   "cell_type": "markdown",
   "id": "42dda6bc-ccf4-4f9d-b13f-5b4578ea7aeb",
   "metadata": {},
   "source": [
    "## Anomaly Detection:\n",
    "   - Treat the imbalanced class as an anomaly or outlier detection problem. This involves training a model to recognize the majority class and consider instances from the minority class as anomalies. This approach can be suitable when the minority class represents rare events or anomalies."
   ]
  },
  {
   "cell_type": "markdown",
   "id": "c498507b-d590-4957-923d-3488abddf778",
   "metadata": {},
   "source": [
    "## One-Class Classification:\n",
    "   - Utilize one-class classification algorithms like One-Class SVM or Isolation Forest to build models that focus on learning the characteristics of the minority class. These algorithms aim to distinguish the minority class from the rest of the data, considering it as the only class of interest."
   ]
  },
  {
   "cell_type": "markdown",
   "id": "0f9e2513-93cc-4f9d-ad79-0abf870f3ffc",
   "metadata": {},
   "source": [
    "## Collect More Data:\n",
    "   - If feasible, collect additional data for the minority class to balance the distribution. This can help improve the model's ability to learn from both classes and reduce bias.\n",
    "\n",
    "It's important to note that the choice of technique depends on the specific problem, dataset, and available resources. It's recommended to evaluate the performance of different techniques using appropriate evaluation metrics and cross-validation to select the most suitable approach. Additionally, domain knowledge and understanding the implications of handling imbalanced data are crucial for making informed decisions."
   ]
  },
  {
   "cell_type": "code",
   "execution_count": null,
   "id": "f8517649-039e-4445-ab2e-38ab318b1963",
   "metadata": {},
   "outputs": [],
   "source": []
  }
 ],
 "metadata": {
  "hide_input": false,
  "kernelspec": {
   "display_name": "Python 3 (ipykernel)",
   "language": "python",
   "name": "python3"
  },
  "language_info": {
   "codemirror_mode": {
    "name": "ipython",
    "version": 3
   },
   "file_extension": ".py",
   "mimetype": "text/x-python",
   "name": "python",
   "nbconvert_exporter": "python",
   "pygments_lexer": "ipython3",
   "version": "3.11.5"
  },
  "toc": {
   "base_numbering": 1,
   "nav_menu": {},
   "number_sections": true,
   "sideBar": true,
   "skip_h1_title": false,
   "title_cell": "Table of Contents",
   "title_sidebar": "Contents",
   "toc_cell": false,
   "toc_position": {
    "height": "calc(100% - 180px)",
    "left": "10px",
    "top": "150px",
    "width": "273.307px"
   },
   "toc_section_display": true,
   "toc_window_display": true
  },
  "toc-autonumbering": true,
  "toc-showcode": false,
  "toc-showtags": false,
  "varInspector": {
   "cols": {
    "lenName": 16,
    "lenType": 16,
    "lenVar": 40
   },
   "kernels_config": {
    "python": {
     "delete_cmd_postfix": "",
     "delete_cmd_prefix": "del ",
     "library": "var_list.py",
     "varRefreshCmd": "print(var_dic_list())"
    },
    "r": {
     "delete_cmd_postfix": ") ",
     "delete_cmd_prefix": "rm(",
     "library": "var_list.r",
     "varRefreshCmd": "cat(var_dic_list()) "
    }
   },
   "types_to_exclude": [
    "module",
    "function",
    "builtin_function_or_method",
    "instance",
    "_Feature"
   ],
   "window_display": false
  }
 },
 "nbformat": 4,
 "nbformat_minor": 5
}
